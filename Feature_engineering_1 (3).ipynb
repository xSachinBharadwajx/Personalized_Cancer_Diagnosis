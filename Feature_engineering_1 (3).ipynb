{
 "cells": [
  {
   "cell_type": "markdown",
   "metadata": {},
   "source": [
    "<p style=\"font-size:36px;text-align:center\"> <b>Personalized cancer diagnosis</b> </p>"
   ]
  },
  {
   "cell_type": "markdown",
   "metadata": {},
   "source": [
    "<h1>1. Business Problem</h1>"
   ]
  },
  {
   "cell_type": "markdown",
   "metadata": {},
   "source": [
    "<h2>1.1. Description</h2>"
   ]
  },
  {
   "cell_type": "markdown",
   "metadata": {},
   "source": [
    "<p> Source: https://www.kaggle.com/c/msk-redefining-cancer-treatment/ </p>\n",
    "<p> Data: Memorial Sloan Kettering Cancer Center (MSKCC)</p>\n",
    "<p> Download training_variants.zip and training_text.zip from Kaggle.</p> \n",
    "\n",
    "<h6> Context:</h6>\n",
    "<p> Source: https://www.kaggle.com/c/msk-redefining-cancer-treatment/discussion/35336#198462</p>\n",
    "\n",
    "<h6> Problem statement : </h6>\n",
    "<p> Classify the given genetic variations/mutations based on evidence from text-based clinical literature. </p>"
   ]
  },
  {
   "cell_type": "markdown",
   "metadata": {},
   "source": [
    "<h2>1.2. Source/Useful Links</h2>"
   ]
  },
  {
   "cell_type": "markdown",
   "metadata": {},
   "source": [
    " Some articles and reference blogs about the problem statement"
   ]
  },
  {
   "cell_type": "markdown",
   "metadata": {},
   "source": [
    "1. https://www.forbes.com/sites/matthewherper/2017/06/03/a-new-cancer-drug-helped-almost-everyone-who-took-it-almost-heres-what-it-teaches-us/#2a44ee2f6b25\n",
    "2. https://www.youtube.com/watch?v=UwbuW7oK8rk \n",
    "3. https://www.youtube.com/watch?v=qxXRKVompI8"
   ]
  },
  {
   "cell_type": "markdown",
   "metadata": {},
   "source": [
    "<h2>1.3. Real-world/Business objectives and constraints.</h2>"
   ]
  },
  {
   "cell_type": "markdown",
   "metadata": {},
   "source": [
    "* No low-latency requirement.\n",
    "* Interpretability is important.\n",
    "* Errors can be very costly.\n",
    "* Probability of a data-point belonging to each class is needed."
   ]
  },
  {
   "cell_type": "markdown",
   "metadata": {},
   "source": [
    "<h1>2. Machine Learning Problem Formulation</h1>"
   ]
  },
  {
   "cell_type": "markdown",
   "metadata": {},
   "source": [
    "<h2>2.1. Data</h2>"
   ]
  },
  {
   "cell_type": "markdown",
   "metadata": {},
   "source": [
    "<h3>2.1.1. Data Overview</h3>"
   ]
  },
  {
   "cell_type": "markdown",
   "metadata": {},
   "source": [
    "- Source: https://www.kaggle.com/c/msk-redefining-cancer-treatment/data\n",
    "- We have two data files: one conatins the information about the genetic mutations and the other contains the clinical evidence (text) that  human experts/pathologists use to classify the genetic mutations. \n",
    "- Both these data files are have a common column called ID\n",
    "- <p> \n",
    "    Data file's information:\n",
    "    <ul> \n",
    "        <li>\n",
    "        training_variants (ID , Gene, Variations, Class)\n",
    "        </li>\n",
    "        <li>\n",
    "        training_text (ID, Text)\n",
    "        </li>\n",
    "    </ul>\n",
    "</p>"
   ]
  },
  {
   "cell_type": "markdown",
   "metadata": {},
   "source": [
    "<h3>2.1.2. Example Data Point</h3>"
   ]
  },
  {
   "cell_type": "markdown",
   "metadata": {},
   "source": [
    "<h6>training_variants</h6>\n",
    "<hr>\n",
    "ID,Gene,Variation,Class<br>\n",
    "0,FAM58A,Truncating Mutations,1 <br>\n",
    "1,CBL,W802*,2 <br>\n",
    "2,CBL,Q249E,2 <br>\n",
    "...\n",
    "\n",
    "<h6> training_text</h6>\n",
    "<hr>\n",
    "ID,Text <br>\n",
    "0||Cyclin-dependent kinases (CDKs) regulate a variety of fundamental cellular processes. CDK10 stands out as one of the last orphan CDKs for which no activating cyclin has been identified and no kinase activity revealed. Previous work has shown that CDK10 silencing increases ETS2 (v-ets erythroblastosis virus E26 oncogene homolog 2)-driven activation of the MAPK pathway, which confers tamoxifen resistance to breast cancer cells. The precise mechanisms by which CDK10 modulates ETS2 activity, and more generally the functions of CDK10, remain elusive. Here we demonstrate that CDK10 is a cyclin-dependent kinase by identifying cyclin M as an activating cyclin. Cyclin M, an orphan cyclin, is the product of FAM58A, whose mutations cause STAR syndrome, a human developmental anomaly whose features include toe syndactyly, telecanthus, and anogenital and renal malformations. We show that STAR syndrome-associated cyclin M mutants are unable to interact with CDK10. Cyclin M silencing phenocopies CDK10 silencing in increasing c-Raf and in conferring tamoxifen resistance to breast cancer cells. CDK10/cyclin M phosphorylates ETS2 in vitro, and in cells it positively controls ETS2 degradation by the proteasome. ETS2 protein levels are increased in cells derived from a STAR patient, and this increase is attributable to decreased cyclin M levels. Altogether, our results reveal an additional regulatory mechanism for ETS2, which plays key roles in cancer and development. They also shed light on the molecular mechanisms underlying STAR syndrome.Cyclin-dependent kinases (CDKs) play a pivotal role in the control of a number of fundamental cellular processes (1). The human genome contains 21 genes encoding proteins that can be considered as members of the CDK family owing to their sequence similarity with bona fide CDKs, those known to be activated by cyclins (2). Although discovered almost 20 y ago (3, 4), CDK10 remains one of the two CDKs without an identified cyclin partner. This knowledge gap has largely impeded the exploration of its biological functions. CDK10 can act as a positive cell cycle regulator in some cells (5, 6) or as a tumor suppressor in others (7, 8). CDK10 interacts with the ETS2 (v-ets erythroblastosis virus E26 oncogene homolog 2) transcription factor and inhibits its transcriptional activity through an unknown mechanism (9). CDK10 knockdown derepresses ETS2, which increases the expression of the c-Raf protein kinase, activates the MAPK pathway, and induces resistance of MCF7 cells to tamoxifen (6). ... "
   ]
  },
  {
   "cell_type": "markdown",
   "metadata": {},
   "source": [
    "<h2>2.2. Mapping the real-world problem to an ML problem</h2>"
   ]
  },
  {
   "cell_type": "markdown",
   "metadata": {},
   "source": [
    "<h3>2.2.1. Type of Machine Learning Problem</h3>"
   ]
  },
  {
   "cell_type": "markdown",
   "metadata": {},
   "source": [
    "<p>\n",
    "    \n",
    "            There are nine different classes a genetic mutation can be classified into => Multi class classification problem\n",
    "   \n",
    "      \n",
    "    \n",
    "</p>"
   ]
  },
  {
   "cell_type": "markdown",
   "metadata": {},
   "source": [
    "<h3>2.2.2. Performance Metric</h3>"
   ]
  },
  {
   "cell_type": "markdown",
   "metadata": {},
   "source": [
    "Source: https://www.kaggle.com/c/msk-redefining-cancer-treatment#evaluation\n",
    "\n",
    "Metric(s): \n",
    "* Multi class log-loss \n",
    "* Confusion matrix \n"
   ]
  },
  {
   "cell_type": "markdown",
   "metadata": {},
   "source": [
    "<h3>2.2.3. Machine Learing Objectives and Constraints</h3>"
   ]
  },
  {
   "cell_type": "markdown",
   "metadata": {},
   "source": [
    "<p> Objective: Predict the probability of each data-point belonging to each of the nine classes.\n",
    "</p>\n",
    "<p> Constraints:\n",
    "</p>\n",
    "* Interpretability\n",
    "* Class probabilities are needed.\n",
    "* Penalize the errors in class probabilites => Metric is Log-loss.\n",
    "* No Latency constraints."
   ]
  },
  {
   "cell_type": "markdown",
   "metadata": {},
   "source": [
    "<h2>2.3. Train, CV and Test Datasets</h2>"
   ]
  },
  {
   "cell_type": "markdown",
   "metadata": {},
   "source": [
    " Split the dataset randomly into three parts train, cross validation and test with 64%,16%, 20% of data respectively"
   ]
  },
  {
   "cell_type": "markdown",
   "metadata": {},
   "source": [
    "<h1>3. Exploratory Data Analysis</h1>"
   ]
  },
  {
   "cell_type": "code",
   "execution_count": 1,
   "metadata": {},
   "outputs": [
    {
     "name": "stderr",
     "output_type": "stream",
     "text": [
      "C:\\ProgramData\\Anaconda3\\lib\\site-packages\\sklearn\\cross_validation.py:41: DeprecationWarning: This module was deprecated in version 0.18 in favor of the model_selection module into which all the refactored classes and functions are moved. Also note that the interface of the new CV iterators are different from that of this module. This module will be removed in 0.20.\n",
      "  \"This module will be removed in 0.20.\", DeprecationWarning)\n",
      "C:\\ProgramData\\Anaconda3\\lib\\site-packages\\sklearn\\ensemble\\weight_boosting.py:29: DeprecationWarning: numpy.core.umath_tests is an internal NumPy module and should not be imported. It will be removed in a future NumPy release.\n",
      "  from numpy.core.umath_tests import inner1d\n"
     ]
    }
   ],
   "source": [
    "import pandas as pd\n",
    "import matplotlib.pyplot as plt\n",
    "import re\n",
    "import time\n",
    "import warnings\n",
    "import numpy as np\n",
    "from nltk.corpus import stopwords\n",
    "from sklearn.decomposition import TruncatedSVD\n",
    "from sklearn.preprocessing import normalize\n",
    "from sklearn.feature_extraction.text import CountVectorizer\n",
    "from sklearn.manifold import TSNE\n",
    "import seaborn as sns\n",
    "from sklearn.neighbors import KNeighborsClassifier\n",
    "from sklearn.metrics import confusion_matrix\n",
    "from sklearn.metrics.classification import accuracy_score, log_loss\n",
    "from sklearn.feature_extraction.text import TfidfVectorizer\n",
    "from sklearn.linear_model import SGDClassifier\n",
    "from collections import Counter\n",
    "from scipy.sparse import hstack\n",
    "from sklearn.multiclass import OneVsRestClassifier\n",
    "from sklearn.svm import SVC\n",
    "from sklearn.cross_validation import StratifiedKFold \n",
    "from collections import Counter, defaultdict\n",
    "from sklearn.calibration import CalibratedClassifierCV\n",
    "from sklearn.naive_bayes import MultinomialNB\n",
    "from sklearn.naive_bayes import GaussianNB\n",
    "from sklearn.model_selection import train_test_split\n",
    "from sklearn.model_selection import GridSearchCV\n",
    "import math\n",
    "from sklearn.metrics import normalized_mutual_info_score\n",
    "from sklearn.ensemble import RandomForestClassifier\n",
    "warnings.filterwarnings(\"ignore\")\n",
    "\n",
    "from mlxtend.classifier import StackingClassifier\n",
    "\n",
    "from sklearn import model_selection\n",
    "from sklearn.linear_model import LogisticRegression\n"
   ]
  },
  {
   "cell_type": "markdown",
   "metadata": {},
   "source": [
    "<h2>3.1. Reading Data</h2>"
   ]
  },
  {
   "cell_type": "markdown",
   "metadata": {},
   "source": [
    "<h3>3.1.1. Reading Gene and Variation Data</h3>"
   ]
  },
  {
   "cell_type": "code",
   "execution_count": 2,
   "metadata": {},
   "outputs": [
    {
     "name": "stdout",
     "output_type": "stream",
     "text": [
      "Number of data points :  3321\n",
      "Number of features :  4\n",
      "Features :  ['ID' 'Gene' 'Variation' 'Class']\n"
     ]
    },
    {
     "data": {
      "text/html": [
       "<div>\n",
       "<style scoped>\n",
       "    .dataframe tbody tr th:only-of-type {\n",
       "        vertical-align: middle;\n",
       "    }\n",
       "\n",
       "    .dataframe tbody tr th {\n",
       "        vertical-align: top;\n",
       "    }\n",
       "\n",
       "    .dataframe thead th {\n",
       "        text-align: right;\n",
       "    }\n",
       "</style>\n",
       "<table border=\"1\" class=\"dataframe\">\n",
       "  <thead>\n",
       "    <tr style=\"text-align: right;\">\n",
       "      <th></th>\n",
       "      <th>ID</th>\n",
       "      <th>Gene</th>\n",
       "      <th>Variation</th>\n",
       "      <th>Class</th>\n",
       "    </tr>\n",
       "  </thead>\n",
       "  <tbody>\n",
       "    <tr>\n",
       "      <th>0</th>\n",
       "      <td>0</td>\n",
       "      <td>FAM58A</td>\n",
       "      <td>Truncating Mutations</td>\n",
       "      <td>1</td>\n",
       "    </tr>\n",
       "    <tr>\n",
       "      <th>1</th>\n",
       "      <td>1</td>\n",
       "      <td>CBL</td>\n",
       "      <td>W802*</td>\n",
       "      <td>2</td>\n",
       "    </tr>\n",
       "    <tr>\n",
       "      <th>2</th>\n",
       "      <td>2</td>\n",
       "      <td>CBL</td>\n",
       "      <td>Q249E</td>\n",
       "      <td>2</td>\n",
       "    </tr>\n",
       "    <tr>\n",
       "      <th>3</th>\n",
       "      <td>3</td>\n",
       "      <td>CBL</td>\n",
       "      <td>N454D</td>\n",
       "      <td>3</td>\n",
       "    </tr>\n",
       "    <tr>\n",
       "      <th>4</th>\n",
       "      <td>4</td>\n",
       "      <td>CBL</td>\n",
       "      <td>L399V</td>\n",
       "      <td>4</td>\n",
       "    </tr>\n",
       "  </tbody>\n",
       "</table>\n",
       "</div>"
      ],
      "text/plain": [
       "   ID    Gene             Variation  Class\n",
       "0   0  FAM58A  Truncating Mutations      1\n",
       "1   1     CBL                 W802*      2\n",
       "2   2     CBL                 Q249E      2\n",
       "3   3     CBL                 N454D      3\n",
       "4   4     CBL                 L399V      4"
      ]
     },
     "execution_count": 2,
     "metadata": {},
     "output_type": "execute_result"
    }
   ],
   "source": [
    "data = pd.read_csv('training_variants')\n",
    "print('Number of data points : ', data.shape[0])\n",
    "print('Number of features : ', data.shape[1])\n",
    "print('Features : ', data.columns.values)\n",
    "data.head()"
   ]
  },
  {
   "cell_type": "markdown",
   "metadata": {},
   "source": [
    "<p>\n",
    "    training/training_variants is a comma separated file containing the description of the genetic mutations used for training. <br>\n",
    "    Fields are \n",
    "    <ul>\n",
    "        <li><b>ID : </b>the id of the row used to link the mutation to the clinical evidence</li>\n",
    "        <li><b>Gene : </b>the gene where this genetic mutation is located </li>\n",
    "        <li><b>Variation : </b>the aminoacid change for this mutations </li>\n",
    "        <li><b>Class :</b> 1-9 the class this genetic mutation has been classified on</li>\n",
    "    </ul>"
   ]
  },
  {
   "cell_type": "markdown",
   "metadata": {},
   "source": [
    "<h3>3.1.2. Reading Text Data</h3>"
   ]
  },
  {
   "cell_type": "code",
   "execution_count": 3,
   "metadata": {},
   "outputs": [
    {
     "name": "stdout",
     "output_type": "stream",
     "text": [
      "Number of data points :  3321\n",
      "Number of features :  2\n",
      "Features :  ['ID' 'TEXT']\n"
     ]
    },
    {
     "data": {
      "text/html": [
       "<div>\n",
       "<style scoped>\n",
       "    .dataframe tbody tr th:only-of-type {\n",
       "        vertical-align: middle;\n",
       "    }\n",
       "\n",
       "    .dataframe tbody tr th {\n",
       "        vertical-align: top;\n",
       "    }\n",
       "\n",
       "    .dataframe thead th {\n",
       "        text-align: right;\n",
       "    }\n",
       "</style>\n",
       "<table border=\"1\" class=\"dataframe\">\n",
       "  <thead>\n",
       "    <tr style=\"text-align: right;\">\n",
       "      <th></th>\n",
       "      <th>ID</th>\n",
       "      <th>TEXT</th>\n",
       "    </tr>\n",
       "  </thead>\n",
       "  <tbody>\n",
       "    <tr>\n",
       "      <th>0</th>\n",
       "      <td>0</td>\n",
       "      <td>Cyclin-dependent kinases (CDKs) regulate a var...</td>\n",
       "    </tr>\n",
       "    <tr>\n",
       "      <th>1</th>\n",
       "      <td>1</td>\n",
       "      <td>Abstract Background  Non-small cell lung canc...</td>\n",
       "    </tr>\n",
       "    <tr>\n",
       "      <th>2</th>\n",
       "      <td>2</td>\n",
       "      <td>Abstract Background  Non-small cell lung canc...</td>\n",
       "    </tr>\n",
       "    <tr>\n",
       "      <th>3</th>\n",
       "      <td>3</td>\n",
       "      <td>Recent evidence has demonstrated that acquired...</td>\n",
       "    </tr>\n",
       "    <tr>\n",
       "      <th>4</th>\n",
       "      <td>4</td>\n",
       "      <td>Oncogenic mutations in the monomeric Casitas B...</td>\n",
       "    </tr>\n",
       "  </tbody>\n",
       "</table>\n",
       "</div>"
      ],
      "text/plain": [
       "   ID                                               TEXT\n",
       "0   0  Cyclin-dependent kinases (CDKs) regulate a var...\n",
       "1   1   Abstract Background  Non-small cell lung canc...\n",
       "2   2   Abstract Background  Non-small cell lung canc...\n",
       "3   3  Recent evidence has demonstrated that acquired...\n",
       "4   4  Oncogenic mutations in the monomeric Casitas B..."
      ]
     },
     "execution_count": 3,
     "metadata": {},
     "output_type": "execute_result"
    }
   ],
   "source": [
    "# note the seprator in this file\n",
    "data_text =pd.read_csv(\"training_text\",sep=\"\\|\\|\",engine=\"python\",names=[\"ID\",\"TEXT\"],skiprows=1)\n",
    "print('Number of data points : ', data_text.shape[0])\n",
    "print('Number of features : ', data_text.shape[1])\n",
    "print('Features : ', data_text.columns.values)\n",
    "data_text.head()"
   ]
  },
  {
   "cell_type": "markdown",
   "metadata": {},
   "source": [
    "<h3>3.1.3. Preprocessing of text</h3>"
   ]
  },
  {
   "cell_type": "code",
   "execution_count": 4,
   "metadata": {},
   "outputs": [],
   "source": [
    "# loading stop words from nltk library\n",
    "stop_words = set(stopwords.words('english'))\n",
    "\n",
    "\n",
    "def nlp_preprocessing(total_text, index, column):\n",
    "    if type(total_text) is not int:\n",
    "        string = \"\"\n",
    "        # replace every special char with space\n",
    "        total_text = re.sub('[^a-zA-Z0-9\\n]', ' ', total_text)\n",
    "        # replace multiple spaces with single space\n",
    "        total_text = re.sub('\\s+',' ', total_text)\n",
    "        # converting all the chars into lower-case.\n",
    "        total_text = total_text.lower()\n",
    "        \n",
    "        for word in total_text.split():\n",
    "        # if the word is a not a stop word then retain that word from the data\n",
    "            if not word in stop_words:\n",
    "                string += word + \" \"\n",
    "        \n",
    "        data_text[column][index] = string"
   ]
  },
  {
   "cell_type": "code",
   "execution_count": 5,
   "metadata": {},
   "outputs": [
    {
     "name": "stderr",
     "output_type": "stream",
     "text": [
      "1109it [00:48, 23.54it/s]"
     ]
    },
    {
     "name": "stdout",
     "output_type": "stream",
     "text": [
      "there is no text description for id: 1109\n"
     ]
    },
    {
     "name": "stderr",
     "output_type": "stream",
     "text": [
      "1275it [00:55, 24.80it/s]"
     ]
    },
    {
     "name": "stdout",
     "output_type": "stream",
     "text": [
      "there is no text description for id: 1277\n"
     ]
    },
    {
     "name": "stderr",
     "output_type": "stream",
     "text": [
      "1405it [01:01, 23.99it/s]"
     ]
    },
    {
     "name": "stdout",
     "output_type": "stream",
     "text": [
      "there is no text description for id: 1407\n"
     ]
    },
    {
     "name": "stderr",
     "output_type": "stream",
     "text": [
      "1637it [01:11, 24.03it/s]"
     ]
    },
    {
     "name": "stdout",
     "output_type": "stream",
     "text": [
      "there is no text description for id: 1639\n"
     ]
    },
    {
     "name": "stderr",
     "output_type": "stream",
     "text": [
      "2755it [02:00, 21.17it/s]"
     ]
    },
    {
     "name": "stdout",
     "output_type": "stream",
     "text": [
      "there is no text description for id: 2755\n"
     ]
    },
    {
     "name": "stderr",
     "output_type": "stream",
     "text": [
      "3321it [02:25, 22.80it/s]\n"
     ]
    }
   ],
   "source": [
    "#text processing stage.\n",
    "from tqdm import tqdm\n",
    "for index, row in tqdm(data_text.iterrows()):\n",
    "    if type(row['TEXT']) is str:\n",
    "        nlp_preprocessing(row['TEXT'], index, 'TEXT')\n",
    "    else:\n",
    "        print(\"there is no text description for id:\",index)\n"
   ]
  },
  {
   "cell_type": "code",
   "execution_count": 6,
   "metadata": {},
   "outputs": [
    {
     "data": {
      "text/html": [
       "<div>\n",
       "<style scoped>\n",
       "    .dataframe tbody tr th:only-of-type {\n",
       "        vertical-align: middle;\n",
       "    }\n",
       "\n",
       "    .dataframe tbody tr th {\n",
       "        vertical-align: top;\n",
       "    }\n",
       "\n",
       "    .dataframe thead th {\n",
       "        text-align: right;\n",
       "    }\n",
       "</style>\n",
       "<table border=\"1\" class=\"dataframe\">\n",
       "  <thead>\n",
       "    <tr style=\"text-align: right;\">\n",
       "      <th></th>\n",
       "      <th>ID</th>\n",
       "      <th>Gene</th>\n",
       "      <th>Variation</th>\n",
       "      <th>Class</th>\n",
       "      <th>TEXT</th>\n",
       "    </tr>\n",
       "  </thead>\n",
       "  <tbody>\n",
       "    <tr>\n",
       "      <th>0</th>\n",
       "      <td>0</td>\n",
       "      <td>FAM58A</td>\n",
       "      <td>Truncating Mutations</td>\n",
       "      <td>1</td>\n",
       "      <td>cyclin dependent kinases cdks regulate variety...</td>\n",
       "    </tr>\n",
       "    <tr>\n",
       "      <th>1</th>\n",
       "      <td>1</td>\n",
       "      <td>CBL</td>\n",
       "      <td>W802*</td>\n",
       "      <td>2</td>\n",
       "      <td>abstract background non small cell lung cancer...</td>\n",
       "    </tr>\n",
       "    <tr>\n",
       "      <th>2</th>\n",
       "      <td>2</td>\n",
       "      <td>CBL</td>\n",
       "      <td>Q249E</td>\n",
       "      <td>2</td>\n",
       "      <td>abstract background non small cell lung cancer...</td>\n",
       "    </tr>\n",
       "    <tr>\n",
       "      <th>3</th>\n",
       "      <td>3</td>\n",
       "      <td>CBL</td>\n",
       "      <td>N454D</td>\n",
       "      <td>3</td>\n",
       "      <td>recent evidence demonstrated acquired uniparen...</td>\n",
       "    </tr>\n",
       "    <tr>\n",
       "      <th>4</th>\n",
       "      <td>4</td>\n",
       "      <td>CBL</td>\n",
       "      <td>L399V</td>\n",
       "      <td>4</td>\n",
       "      <td>oncogenic mutations monomeric casitas b lineag...</td>\n",
       "    </tr>\n",
       "  </tbody>\n",
       "</table>\n",
       "</div>"
      ],
      "text/plain": [
       "   ID    Gene             Variation  Class  \\\n",
       "0   0  FAM58A  Truncating Mutations      1   \n",
       "1   1     CBL                 W802*      2   \n",
       "2   2     CBL                 Q249E      2   \n",
       "3   3     CBL                 N454D      3   \n",
       "4   4     CBL                 L399V      4   \n",
       "\n",
       "                                                TEXT  \n",
       "0  cyclin dependent kinases cdks regulate variety...  \n",
       "1  abstract background non small cell lung cancer...  \n",
       "2  abstract background non small cell lung cancer...  \n",
       "3  recent evidence demonstrated acquired uniparen...  \n",
       "4  oncogenic mutations monomeric casitas b lineag...  "
      ]
     },
     "execution_count": 6,
     "metadata": {},
     "output_type": "execute_result"
    }
   ],
   "source": [
    "#merging both gene_variations and text data based on ID\n",
    "result = pd.merge(data, data_text,on='ID', how='left')\n",
    "result.head()"
   ]
  },
  {
   "cell_type": "code",
   "execution_count": 7,
   "metadata": {},
   "outputs": [
    {
     "data": {
      "text/html": [
       "<div>\n",
       "<style scoped>\n",
       "    .dataframe tbody tr th:only-of-type {\n",
       "        vertical-align: middle;\n",
       "    }\n",
       "\n",
       "    .dataframe tbody tr th {\n",
       "        vertical-align: top;\n",
       "    }\n",
       "\n",
       "    .dataframe thead th {\n",
       "        text-align: right;\n",
       "    }\n",
       "</style>\n",
       "<table border=\"1\" class=\"dataframe\">\n",
       "  <thead>\n",
       "    <tr style=\"text-align: right;\">\n",
       "      <th></th>\n",
       "      <th>ID</th>\n",
       "      <th>Gene</th>\n",
       "      <th>Variation</th>\n",
       "      <th>Class</th>\n",
       "      <th>TEXT</th>\n",
       "    </tr>\n",
       "  </thead>\n",
       "  <tbody>\n",
       "    <tr>\n",
       "      <th>1109</th>\n",
       "      <td>1109</td>\n",
       "      <td>FANCA</td>\n",
       "      <td>S1088F</td>\n",
       "      <td>1</td>\n",
       "      <td>NaN</td>\n",
       "    </tr>\n",
       "    <tr>\n",
       "      <th>1277</th>\n",
       "      <td>1277</td>\n",
       "      <td>ARID5B</td>\n",
       "      <td>Truncating Mutations</td>\n",
       "      <td>1</td>\n",
       "      <td>NaN</td>\n",
       "    </tr>\n",
       "    <tr>\n",
       "      <th>1407</th>\n",
       "      <td>1407</td>\n",
       "      <td>FGFR3</td>\n",
       "      <td>K508M</td>\n",
       "      <td>6</td>\n",
       "      <td>NaN</td>\n",
       "    </tr>\n",
       "    <tr>\n",
       "      <th>1639</th>\n",
       "      <td>1639</td>\n",
       "      <td>FLT1</td>\n",
       "      <td>Amplification</td>\n",
       "      <td>6</td>\n",
       "      <td>NaN</td>\n",
       "    </tr>\n",
       "    <tr>\n",
       "      <th>2755</th>\n",
       "      <td>2755</td>\n",
       "      <td>BRAF</td>\n",
       "      <td>G596C</td>\n",
       "      <td>7</td>\n",
       "      <td>NaN</td>\n",
       "    </tr>\n",
       "  </tbody>\n",
       "</table>\n",
       "</div>"
      ],
      "text/plain": [
       "        ID    Gene             Variation  Class TEXT\n",
       "1109  1109   FANCA                S1088F      1  NaN\n",
       "1277  1277  ARID5B  Truncating Mutations      1  NaN\n",
       "1407  1407   FGFR3                 K508M      6  NaN\n",
       "1639  1639    FLT1         Amplification      6  NaN\n",
       "2755  2755    BRAF                 G596C      7  NaN"
      ]
     },
     "execution_count": 7,
     "metadata": {},
     "output_type": "execute_result"
    }
   ],
   "source": [
    "result[result.isnull().any(axis=1)]"
   ]
  },
  {
   "cell_type": "markdown",
   "metadata": {},
   "source": [
    "### Replace NaN with Gene+ Variation as Text"
   ]
  },
  {
   "cell_type": "code",
   "execution_count": 8,
   "metadata": {},
   "outputs": [],
   "source": [
    "result.loc[result['TEXT'].isnull(),'TEXT'] = result['Gene'] +' '+result['Variation']"
   ]
  },
  {
   "cell_type": "code",
   "execution_count": 9,
   "metadata": {},
   "outputs": [
    {
     "data": {
      "text/html": [
       "<div>\n",
       "<style scoped>\n",
       "    .dataframe tbody tr th:only-of-type {\n",
       "        vertical-align: middle;\n",
       "    }\n",
       "\n",
       "    .dataframe tbody tr th {\n",
       "        vertical-align: top;\n",
       "    }\n",
       "\n",
       "    .dataframe thead th {\n",
       "        text-align: right;\n",
       "    }\n",
       "</style>\n",
       "<table border=\"1\" class=\"dataframe\">\n",
       "  <thead>\n",
       "    <tr style=\"text-align: right;\">\n",
       "      <th></th>\n",
       "      <th>ID</th>\n",
       "      <th>Gene</th>\n",
       "      <th>Variation</th>\n",
       "      <th>Class</th>\n",
       "      <th>TEXT</th>\n",
       "    </tr>\n",
       "  </thead>\n",
       "  <tbody>\n",
       "    <tr>\n",
       "      <th>1109</th>\n",
       "      <td>1109</td>\n",
       "      <td>FANCA</td>\n",
       "      <td>S1088F</td>\n",
       "      <td>1</td>\n",
       "      <td>FANCA S1088F</td>\n",
       "    </tr>\n",
       "  </tbody>\n",
       "</table>\n",
       "</div>"
      ],
      "text/plain": [
       "        ID   Gene Variation  Class          TEXT\n",
       "1109  1109  FANCA    S1088F      1  FANCA S1088F"
      ]
     },
     "execution_count": 9,
     "metadata": {},
     "output_type": "execute_result"
    }
   ],
   "source": [
    "result[result['ID']==1109]"
   ]
  },
  {
   "cell_type": "code",
   "execution_count": 10,
   "metadata": {},
   "outputs": [],
   "source": [
    "def check_count(f1,text):\n",
    "    result=[]\n",
    "    print(len(f1))\n",
    "    for i in range(len(f1)):\n",
    "        if f1[i].lower() in text[i].lower():\n",
    "            result.append(text[i].lower().count(f1[i].lower()))\n",
    "        else:\n",
    "            result.append(0)\n",
    "    return result \n",
    "            \n",
    "            \n",
    "        "
   ]
  },
  {
   "cell_type": "code",
   "execution_count": 11,
   "metadata": {},
   "outputs": [],
   "source": [
    "def check_presence(f1,text):\n",
    "    result=[]\n",
    "    print(len(f1))\n",
    "    for i in range(len(f1)):\n",
    "        if f1[i].lower() in text[i].lower():\n",
    "            result.append(1)\n",
    "        else:\n",
    "            result.append(0)\n",
    "    return result \n",
    "            \n",
    "            \n",
    "        "
   ]
  },
  {
   "cell_type": "markdown",
   "metadata": {},
   "source": [
    "## count the occurance of Gene  in Text.  "
   ]
  },
  {
   "cell_type": "code",
   "execution_count": 12,
   "metadata": {},
   "outputs": [
    {
     "name": "stdout",
     "output_type": "stream",
     "text": [
      "3321\n",
      "3321\n"
     ]
    }
   ],
   "source": [
    "result['presence_gene_in_text']=check_presence(result['Gene'],result['TEXT'])\n",
    "result['count_gene_in_text']=check_count(result['Gene'],result['TEXT'])"
   ]
  },
  {
   "cell_type": "code",
   "execution_count": 13,
   "metadata": {},
   "outputs": [
    {
     "name": "stdout",
     "output_type": "stream",
     "text": [
      "3321\n",
      "3321\n"
     ]
    }
   ],
   "source": [
    "result['presence_variation_in_text']=check_presence(result['Variation'],result['TEXT'])\n",
    "result['count_variation_in_text']=check_count(result['Variation'],result['TEXT'])"
   ]
  },
  {
   "cell_type": "code",
   "execution_count": 14,
   "metadata": {},
   "outputs": [],
   "source": [
    "\n",
    "# code courtesy - https://www.kaggle.com/eavdeeva/cancer-all-gene-variation-values-are-unique\n",
    "# Since all combination of Gene and Variation are unique in the dataset\n",
    "# Combining Gene + Variation\n",
    "result[\"Gene_and_Variation\"] = result[\"Gene\"] + \"_\" + result[\"Variation\"]"
   ]
  },
  {
   "cell_type": "code",
   "execution_count": 15,
   "metadata": {},
   "outputs": [
    {
     "data": {
      "text/html": [
       "<div>\n",
       "<style scoped>\n",
       "    .dataframe tbody tr th:only-of-type {\n",
       "        vertical-align: middle;\n",
       "    }\n",
       "\n",
       "    .dataframe tbody tr th {\n",
       "        vertical-align: top;\n",
       "    }\n",
       "\n",
       "    .dataframe thead th {\n",
       "        text-align: right;\n",
       "    }\n",
       "</style>\n",
       "<table border=\"1\" class=\"dataframe\">\n",
       "  <thead>\n",
       "    <tr style=\"text-align: right;\">\n",
       "      <th></th>\n",
       "      <th>ID</th>\n",
       "      <th>Gene</th>\n",
       "      <th>Variation</th>\n",
       "      <th>Class</th>\n",
       "      <th>TEXT</th>\n",
       "      <th>presence_gene_in_text</th>\n",
       "      <th>count_gene_in_text</th>\n",
       "      <th>presence_variation_in_text</th>\n",
       "      <th>count_variation_in_text</th>\n",
       "      <th>Gene_and_Variation</th>\n",
       "    </tr>\n",
       "  </thead>\n",
       "  <tbody>\n",
       "    <tr>\n",
       "      <th>0</th>\n",
       "      <td>0</td>\n",
       "      <td>FAM58A</td>\n",
       "      <td>Truncating Mutations</td>\n",
       "      <td>1</td>\n",
       "      <td>cyclin dependent kinases cdks regulate variety...</td>\n",
       "      <td>1</td>\n",
       "      <td>34</td>\n",
       "      <td>0</td>\n",
       "      <td>0</td>\n",
       "      <td>FAM58A_Truncating Mutations</td>\n",
       "    </tr>\n",
       "    <tr>\n",
       "      <th>1</th>\n",
       "      <td>1</td>\n",
       "      <td>CBL</td>\n",
       "      <td>W802*</td>\n",
       "      <td>2</td>\n",
       "      <td>abstract background non small cell lung cancer...</td>\n",
       "      <td>1</td>\n",
       "      <td>166</td>\n",
       "      <td>0</td>\n",
       "      <td>0</td>\n",
       "      <td>CBL_W802*</td>\n",
       "    </tr>\n",
       "    <tr>\n",
       "      <th>2</th>\n",
       "      <td>2</td>\n",
       "      <td>CBL</td>\n",
       "      <td>Q249E</td>\n",
       "      <td>2</td>\n",
       "      <td>abstract background non small cell lung cancer...</td>\n",
       "      <td>1</td>\n",
       "      <td>166</td>\n",
       "      <td>1</td>\n",
       "      <td>13</td>\n",
       "      <td>CBL_Q249E</td>\n",
       "    </tr>\n",
       "    <tr>\n",
       "      <th>3</th>\n",
       "      <td>3</td>\n",
       "      <td>CBL</td>\n",
       "      <td>N454D</td>\n",
       "      <td>3</td>\n",
       "      <td>recent evidence demonstrated acquired uniparen...</td>\n",
       "      <td>1</td>\n",
       "      <td>118</td>\n",
       "      <td>1</td>\n",
       "      <td>5</td>\n",
       "      <td>CBL_N454D</td>\n",
       "    </tr>\n",
       "    <tr>\n",
       "      <th>4</th>\n",
       "      <td>4</td>\n",
       "      <td>CBL</td>\n",
       "      <td>L399V</td>\n",
       "      <td>4</td>\n",
       "      <td>oncogenic mutations monomeric casitas b lineag...</td>\n",
       "      <td>1</td>\n",
       "      <td>202</td>\n",
       "      <td>1</td>\n",
       "      <td>2</td>\n",
       "      <td>CBL_L399V</td>\n",
       "    </tr>\n",
       "  </tbody>\n",
       "</table>\n",
       "</div>"
      ],
      "text/plain": [
       "   ID    Gene             Variation  Class  \\\n",
       "0   0  FAM58A  Truncating Mutations      1   \n",
       "1   1     CBL                 W802*      2   \n",
       "2   2     CBL                 Q249E      2   \n",
       "3   3     CBL                 N454D      3   \n",
       "4   4     CBL                 L399V      4   \n",
       "\n",
       "                                                TEXT  presence_gene_in_text  \\\n",
       "0  cyclin dependent kinases cdks regulate variety...                      1   \n",
       "1  abstract background non small cell lung cancer...                      1   \n",
       "2  abstract background non small cell lung cancer...                      1   \n",
       "3  recent evidence demonstrated acquired uniparen...                      1   \n",
       "4  oncogenic mutations monomeric casitas b lineag...                      1   \n",
       "\n",
       "   count_gene_in_text  presence_variation_in_text  count_variation_in_text  \\\n",
       "0                  34                           0                        0   \n",
       "1                 166                           0                        0   \n",
       "2                 166                           1                       13   \n",
       "3                 118                           1                        5   \n",
       "4                 202                           1                        2   \n",
       "\n",
       "            Gene_and_Variation  \n",
       "0  FAM58A_Truncating Mutations  \n",
       "1                    CBL_W802*  \n",
       "2                    CBL_Q249E  \n",
       "3                    CBL_N454D  \n",
       "4                    CBL_L399V  "
      ]
     },
     "execution_count": 15,
     "metadata": {},
     "output_type": "execute_result"
    }
   ],
   "source": [
    "result.head(5)"
   ]
  },
  {
   "cell_type": "markdown",
   "metadata": {},
   "source": [
    "<h3>3.1.4. Test, Train and Cross Validation Split</h3>"
   ]
  },
  {
   "cell_type": "markdown",
   "metadata": {},
   "source": [
    "<h4>3.1.4.1. Splitting data into train, test and cross validation (64:20:16)</h4>"
   ]
  },
  {
   "cell_type": "code",
   "execution_count": 16,
   "metadata": {},
   "outputs": [],
   "source": [
    "y_true = result['Class'].values\n",
    "result.Gene      = result.Gene.str.replace('\\s+', '_')\n",
    "result.Variation = result.Variation.str.replace('\\s+', '_')\n",
    "\n",
    "# split the data into test and train by maintaining same distribution of output varaible 'y_true' [stratify=y_true]\n",
    "X_train, test_df, y_train, y_test = train_test_split(result, y_true, stratify=y_true, test_size=0.2)\n",
    "# split the train data into train and cross validation by maintaining same distribution of output varaible 'y_train' [stratify=y_train]\n",
    "train_df, cv_df, y_train, y_cv = train_test_split(X_train, y_train, stratify=y_train, test_size=0.2)"
   ]
  },
  {
   "cell_type": "markdown",
   "metadata": {},
   "source": [
    "<p> We split the data into train, test and cross validation data sets, preserving the ratio of class distribution in the original data set  </p>"
   ]
  },
  {
   "cell_type": "code",
   "execution_count": 17,
   "metadata": {},
   "outputs": [
    {
     "name": "stdout",
     "output_type": "stream",
     "text": [
      "Number of data points in train data: 2124\n",
      "Number of data points in test data: 665\n",
      "Number of data points in cross validation data: 532\n"
     ]
    }
   ],
   "source": [
    "print('Number of data points in train data:', train_df.shape[0])\n",
    "print('Number of data points in test data:', test_df.shape[0])\n",
    "print('Number of data points in cross validation data:', cv_df.shape[0])"
   ]
  },
  {
   "cell_type": "markdown",
   "metadata": {},
   "source": [
    "## Univaraite analysis on count_gene_in_text feature "
   ]
  },
  {
   "cell_type": "code",
   "execution_count": 18,
   "metadata": {},
   "outputs": [],
   "source": [
    "train_count_gene_in_text=train_df['count_gene_in_text'].to_frame()\n",
    "test_count_gene_in_text=test_df['count_gene_in_text'].to_frame()\n",
    "cv_count_gene_in_text=cv_df['count_gene_in_text'].to_frame()\n",
    "\n",
    "train_presence_gene_in_text=train_df['presence_gene_in_text'].to_frame()\n",
    "test_presence_gene_in_text=test_df['presence_gene_in_text'].to_frame()\n",
    "cv_presence_gene_in_text=cv_df['presence_gene_in_text'].to_frame()\n"
   ]
  },
  {
   "cell_type": "code",
   "execution_count": 19,
   "metadata": {},
   "outputs": [
    {
     "name": "stdout",
     "output_type": "stream",
     "text": [
      "For values of alpha =  1e-05 The log loss is: 1.816237787085441\n",
      "For values of alpha =  0.0001 The log loss is: 1.8131513576080778\n",
      "For values of alpha =  0.001 The log loss is: 1.8127668976015383\n",
      "For values of alpha =  0.01 The log loss is: 1.811930950572545\n",
      "For values of alpha =  0.1 The log loss is: 1.811805005860512\n",
      "For values of alpha =  1 The log loss is: 1.8116517492746178\n"
     ]
    },
    {
     "data": {
      "image/png": "[encoded data removed]",
      "text/plain": [
       "<Figure size 432x288 with 1 Axes>"
      ]
     },
     "metadata": {},
     "output_type": "display_data"
    },
    {
     "name": "stdout",
     "output_type": "stream",
     "text": [
      "For values of best alpha =  1 The train log loss is: 1.81391567539934\n",
      "For values of best alpha =  1 The cross validation log loss is: 1.811651749628213\n",
      "For values of best alpha =  1 The test log loss is: 1.8213568978616395\n"
     ]
    }
   ],
   "source": [
    "alpha = [10 ** x for x in range(-5, 1)] # hyperparam for SGD classifier.\n",
    "\n",
    "# read more about SGDClassifier() at http://scikit-learn.org/stable/modules/generated/sklearn.linear_model.SGDClassifier.html\n",
    "# ------------------------------\n",
    "# default parameters\n",
    "# SGDClassifier(loss=’hinge’, penalty=’l2’, alpha=0.0001, l1_ratio=0.15, fit_intercept=True, max_iter=None, tol=None, \n",
    "# shuffle=True, verbose=0, epsilon=0.1, n_jobs=1, random_state=None, learning_rate=’optimal’, eta0=0.0, power_t=0.5, \n",
    "# class_weight=None, warm_start=False, average=False, n_iter=None)\n",
    "\n",
    "# some of methods\n",
    "# fit(X, y[, coef_init, intercept_init, …])\tFit linear model with Stochastic Gradient Descent.\n",
    "# predict(X)\tPredict class labels for samples in X.\n",
    "\n",
    "#-------------------------------\n",
    "# video link: \n",
    "#------------------------------\n",
    "\n",
    "\n",
    "cv_log_error_array=[]\n",
    "for i in alpha:\n",
    "    clf = SGDClassifier(alpha=i, penalty='l2', loss='log')\n",
    "    clf.fit(train_count_gene_in_text, y_train)\n",
    "    sig_clf = CalibratedClassifierCV(clf, method=\"sigmoid\")\n",
    "    sig_clf.fit(train_count_gene_in_text, y_train)\n",
    "    predict_y = sig_clf.predict_proba(cv_count_gene_in_text)\n",
    "    cv_log_error_array.append(log_loss(y_cv, predict_y, labels=clf.classes_, eps=1e-15))\n",
    "    print('For values of alpha = ', i, \"The log loss is:\",log_loss(y_cv, predict_y, labels=clf.classes_, eps=1e-15))\n",
    "\n",
    "fig, ax = plt.subplots()\n",
    "ax.plot(alpha, cv_log_error_array,c='g')\n",
    "for i, txt in enumerate(np.round(cv_log_error_array,3)):\n",
    "    ax.annotate((alpha[i],np.round(txt,3)), (alpha[i],cv_log_error_array[i]))\n",
    "plt.grid()\n",
    "plt.title(\"Cross Validation Error for each alpha\")\n",
    "plt.xlabel(\"Alpha i's\")\n",
    "plt.ylabel(\"Error measure\")\n",
    "plt.show()\n",
    "\n",
    "\n",
    "best_alpha = np.argmin(cv_log_error_array)\n",
    "clf = SGDClassifier(alpha=alpha[best_alpha], penalty='l2', loss='log', random_state=42)\n",
    "clf.fit(train_count_gene_in_text, y_train)\n",
    "sig_clf = CalibratedClassifierCV(clf, method=\"sigmoid\")\n",
    "sig_clf.fit(train_count_gene_in_text, y_train)\n",
    "\n",
    "predict_y = sig_clf.predict_proba(train_count_gene_in_text)\n",
    "print('For values of best alpha = ', alpha[best_alpha], \"The train log loss is:\",log_loss(y_train, predict_y, labels=clf.classes_, eps=1e-15))\n",
    "predict_y = sig_clf.predict_proba(cv_count_gene_in_text)\n",
    "print('For values of best alpha = ', alpha[best_alpha], \"The cross validation log loss is:\",log_loss(y_cv, predict_y, labels=clf.classes_, eps=1e-15))\n",
    "predict_y = sig_clf.predict_proba(test_count_gene_in_text)\n",
    "print('For values of best alpha = ', alpha[best_alpha], \"The test log loss is:\",log_loss(y_test, predict_y, labels=clf.classes_, eps=1e-15))\n"
   ]
  },
  {
   "cell_type": "markdown",
   "metadata": {},
   "source": [
    "## Univaraite analysis on count_variation_in_text feature "
   ]
  },
  {
   "cell_type": "code",
   "execution_count": 20,
   "metadata": {},
   "outputs": [],
   "source": [
    "train_count_variation_in_text=train_df['count_variation_in_text'].to_frame()\n",
    "test_count_variation_in_text=test_df['count_variation_in_text'].to_frame()\n",
    "cv_count_variation_in_text=cv_df['count_variation_in_text'].to_frame()\n",
    "\n",
    "\n",
    "train_presence_variation_in_text=train_df['presence_variation_in_text'].to_frame()\n",
    "test_presence_variation_in_text=test_df['presence_variation_in_text'].to_frame()\n",
    "cv_presence_variation_in_text=cv_df['presence_variation_in_text'].to_frame()\n"
   ]
  },
  {
   "cell_type": "code",
   "execution_count": 21,
   "metadata": {},
   "outputs": [
    {
     "name": "stdout",
     "output_type": "stream",
     "text": [
      "For values of alpha =  1e-05 The log loss is: 1.8109185296149701\n",
      "For values of alpha =  0.0001 The log loss is: 1.8109185296150287\n",
      "For values of alpha =  0.001 The log loss is: 1.8108605897003744\n",
      "For values of alpha =  0.01 The log loss is: 1.8108782955458882\n",
      "For values of alpha =  0.1 The log loss is: 1.8108605906071669\n",
      "For values of alpha =  1 The log loss is: 1.8108605950988166\n"
     ]
    },
    {
     "data": {
      "image/png": "[encoded data removed]",
      "text/plain": [
       "<Figure size 432x288 with 1 Axes>"
      ]
     },
     "metadata": {},
     "output_type": "display_data"
    },
    {
     "name": "stdout",
     "output_type": "stream",
     "text": [
      "For values of best alpha =  0.001 The train log loss is: 1.8150461967396558\n",
      "For values of best alpha =  0.001 The cross validation log loss is: 1.8108782949709759\n",
      "For values of best alpha =  0.001 The test log loss is: 1.80913270986893\n"
     ]
    }
   ],
   "source": [
    "alpha = [10 ** x for x in range(-5, 1)] # hyperparam for SGD classifier.\n",
    "\n",
    "# read more about SGDClassifier() at http://scikit-learn.org/stable/modules/generated/sklearn.linear_model.SGDClassifier.html\n",
    "# ------------------------------\n",
    "# default parameters\n",
    "# SGDClassifier(loss=’hinge’, penalty=’l2’, alpha=0.0001, l1_ratio=0.15, fit_intercept=True, max_iter=None, tol=None, \n",
    "# shuffle=True, verbose=0, epsilon=0.1, n_jobs=1, random_state=None, learning_rate=’optimal’, eta0=0.0, power_t=0.5, \n",
    "# class_weight=None, warm_start=False, average=False, n_iter=None)\n",
    "\n",
    "# some of methods\n",
    "# fit(X, y[, coef_init, intercept_init, …])\tFit linear model with Stochastic Gradient Descent.\n",
    "# predict(X)\tPredict class labels for samples in X.\n",
    "\n",
    "#-------------------------------\n",
    "# video link: \n",
    "#------------------------------\n",
    "\n",
    "\n",
    "cv_log_error_array=[]\n",
    "for i in alpha:\n",
    "    clf = SGDClassifier(alpha=i, penalty='l2', loss='log')\n",
    "    clf.fit(train_count_variation_in_text, y_train)\n",
    "    sig_clf = CalibratedClassifierCV(clf, method=\"sigmoid\")\n",
    "    sig_clf.fit(train_count_variation_in_text, y_train)\n",
    "    predict_y = sig_clf.predict_proba(cv_count_variation_in_text)\n",
    "    cv_log_error_array.append(log_loss(y_cv, predict_y, labels=clf.classes_, eps=1e-15))\n",
    "    print('For values of alpha = ', i, \"The log loss is:\",log_loss(y_cv, predict_y, labels=clf.classes_, eps=1e-15))\n",
    "\n",
    "fig, ax = plt.subplots()\n",
    "ax.plot(alpha, cv_log_error_array,c='g')\n",
    "for i, txt in enumerate(np.round(cv_log_error_array,3)):\n",
    "    ax.annotate((alpha[i],np.round(txt,3)), (alpha[i],cv_log_error_array[i]))\n",
    "plt.grid()\n",
    "plt.title(\"Cross Validation Error for each alpha\")\n",
    "plt.xlabel(\"Alpha i's\")\n",
    "plt.ylabel(\"Error measure\")\n",
    "plt.show()\n",
    "\n",
    "\n",
    "best_alpha = np.argmin(cv_log_error_array)\n",
    "clf = SGDClassifier(alpha=alpha[best_alpha], penalty='l2', loss='log', random_state=42)\n",
    "clf.fit(train_count_variation_in_text, y_train)\n",
    "sig_clf = CalibratedClassifierCV(clf, method=\"sigmoid\")\n",
    "sig_clf.fit(train_count_variation_in_text, y_train)\n",
    "\n",
    "predict_y = sig_clf.predict_proba(train_count_variation_in_text)\n",
    "print('For values of best alpha = ', alpha[best_alpha], \"The train log loss is:\",log_loss(y_train, predict_y, labels=clf.classes_, eps=1e-15))\n",
    "predict_y = sig_clf.predict_proba(cv_count_variation_in_text)\n",
    "print('For values of best alpha = ', alpha[best_alpha], \"The cross validation log loss is:\",log_loss(y_cv, predict_y, labels=clf.classes_, eps=1e-15))\n",
    "predict_y = sig_clf.predict_proba(test_count_variation_in_text)\n",
    "print('For values of best alpha = ', alpha[best_alpha], \"The test log loss is:\",log_loss(y_test, predict_y, labels=clf.classes_, eps=1e-15))\n"
   ]
  },
  {
   "cell_type": "markdown",
   "metadata": {},
   "source": [
    "## TFIDF on the TEXT Features"
   ]
  },
  {
   "cell_type": "code",
   "execution_count": 22,
   "metadata": {},
   "outputs": [
    {
     "name": "stdout",
     "output_type": "stream",
     "text": [
      "(2124, 10000)\n",
      "(665, 10000)\n",
      "(532, 10000)\n"
     ]
    }
   ],
   "source": [
    "from sklearn.feature_extraction.text import TfidfVectorizer\n",
    "from sklearn.feature_selection import SelectKBest,chi2\n",
    "\n",
    "feature_names_tfidf=[]\n",
    "vectorizer = TfidfVectorizer(ngram_range=(1,1),min_df=5,max_features=10000)\n",
    "\n",
    "X_train_text_tfidf=vectorizer.fit_transform(train_df['TEXT'])\n",
    "X_test_text_tfidf=vectorizer.transform(test_df['TEXT'])\n",
    "X_cv_text_tfidf=vectorizer.transform(cv_df['TEXT'])\n",
    "feature_names_tfidf.extend(vectorizer.get_feature_names())\n",
    "\n",
    "\n",
    "# kbest=SelectKBest(k=100).fit(df_train,y_train)\n",
    "# X_train_text_tfidf=kbest.transform(X=df_train)\n",
    "# X_test_text_tfidf =kbest.transform(X=df_test)\n",
    "# X_cv_text_tfidf =kbest.transform(X=df_cv)\n",
    "\n",
    "\n",
    "print(X_train_text_tfidf.shape)\n",
    "print(X_test_text_tfidf.shape)\n",
    "print(X_cv_text_tfidf.shape)\n",
    "\n"
   ]
  },
  {
   "cell_type": "code",
   "execution_count": 50,
   "metadata": {},
   "outputs": [
    {
     "name": "stdout",
     "output_type": "stream",
     "text": [
      "(2124, 10000)\n",
      "(665, 10000)\n",
      "(532, 10000)\n"
     ]
    }
   ],
   "source": [
    "import category_encoders as ce\n",
    "vectorizer = ce.TargetEncoder()\n",
    "\n",
    "vectorizer.fit(X_train_text_tfidf,y_train)\n",
    "X_train_text_tfidf=vectorizer.transform(X_train_text_tfidf)\n",
    "X_test_text_tfidf=vectorizer.transform(X_test_text_tfidf)\n",
    "X_cv_text_tfidf=vectorizer.transform(X_cv_text_tfidf)\n",
    "\n",
    "print(X_train_text_tfidf.shape)\n",
    "print(X_test_text_tfidf.shape)\n",
    "print(X_cv_text_tfidf.shape)\n"
   ]
  },
  {
   "cell_type": "code",
   "execution_count": 24,
   "metadata": {},
   "outputs": [
    {
     "name": "stdout",
     "output_type": "stream",
     "text": [
      "(2124, 229)\n",
      "(665, 229)\n",
      "(532, 229)\n"
     ]
    }
   ],
   "source": [
    "vectorizer = TfidfVectorizer()\n",
    "train_Gene=vectorizer.fit_transform(train_df['Gene'])\n",
    "test_Gene=vectorizer.transform(test_df['Gene'])\n",
    "cv_Gene=vectorizer.transform(cv_df['Gene'])\n",
    "\n",
    "feature_names_tfidf.extend(vectorizer.get_feature_names())\n",
    "\n",
    "print(train_Gene.shape)\n",
    "print(test_Gene.shape)\n",
    "print(cv_Gene.shape)"
   ]
  },
  {
   "cell_type": "code",
   "execution_count": 51,
   "metadata": {},
   "outputs": [
    {
     "name": "stdout",
     "output_type": "stream",
     "text": [
      "(2124, 229)\n",
      "(665, 229)\n",
      "(532, 229)\n"
     ]
    }
   ],
   "source": [
    "import category_encoders as ce\n",
    "\n",
    "encoder = ce.TargetEncoder()\n",
    "train_Gene=encoder.fit_transform(train_Gene,y_train)\n",
    "test_Gene=encoder.transform(test_Gene)\n",
    "cv_Gene=encoder.transform(cv_Gene)\n",
    "\n",
    "print(train_Gene.shape)\n",
    "print(test_Gene.shape)\n",
    "print(cv_Gene.shape)"
   ]
  },
  {
   "cell_type": "markdown",
   "metadata": {},
   "source": [
    "\n",
    "\n",
    "##  Encoding the variation"
   ]
  },
  {
   "cell_type": "code",
   "execution_count": 26,
   "metadata": {},
   "outputs": [
    {
     "name": "stdout",
     "output_type": "stream",
     "text": [
      "(2124, 1938)\n",
      "(665, 1938)\n",
      "(532, 1938)\n"
     ]
    }
   ],
   "source": [
    "vectorizer = TfidfVectorizer()\n",
    "train_Variation=vectorizer.fit_transform(train_df['Variation'])\n",
    "test_Variation=vectorizer.transform(test_df['Variation'])\n",
    "cv_Variation=vectorizer.transform(cv_df['Variation'])\n",
    "\n",
    "feature_names_tfidf.extend(vectorizer.get_feature_names())\n",
    "\n",
    "print(train_Variation.shape)\n",
    "print(test_Variation.shape)\n",
    "print(cv_Variation.shape)\n"
   ]
  },
  {
   "cell_type": "code",
   "execution_count": 52,
   "metadata": {},
   "outputs": [
    {
     "name": "stdout",
     "output_type": "stream",
     "text": [
      "(2124, 1938)\n",
      "(665, 1938)\n",
      "(532, 1938)\n"
     ]
    }
   ],
   "source": [
    "import category_encoders as ce\n",
    "\n",
    "encoder = ce.TargetEncoder()\n",
    "train_Variation=encoder.fit_transform(train_Variation,y_train)\n",
    "test_Variation=encoder.transform(test_Variation)\n",
    "cv_Variation=encoder.transform(cv_Variation)\n",
    "\n",
    "print(train_Variation.shape)\n",
    "print(test_Variation.shape)\n",
    "print(cv_Variation.shape)\n"
   ]
  },
  {
   "cell_type": "markdown",
   "metadata": {},
   "source": [
    "## encode gene+variation"
   ]
  },
  {
   "cell_type": "code",
   "execution_count": 28,
   "metadata": {},
   "outputs": [
    {
     "name": "stdout",
     "output_type": "stream",
     "text": [
      "(2124, 2178)\n",
      "(665, 2178)\n",
      "(532, 2178)\n"
     ]
    }
   ],
   "source": [
    "vectorizer = TfidfVectorizer()\n",
    "train_Gene_and_Variation=vectorizer.fit_transform(train_df['Gene_and_Variation'])\n",
    "test_Gene_and_Variation=vectorizer.transform(test_df['Gene_and_Variation'])\n",
    "cv_Gene_and_Variation=vectorizer.transform(cv_df['Gene_and_Variation'])\n",
    "\n",
    "feature_names_tfidf.extend(vectorizer.get_feature_names())\n",
    "\n",
    "print(train_Gene_and_Variation.shape)\n",
    "print(test_Gene_and_Variation.shape)\n",
    "print(cv_Gene_and_Variation.shape)\n"
   ]
  },
  {
   "cell_type": "code",
   "execution_count": 53,
   "metadata": {},
   "outputs": [
    {
     "name": "stdout",
     "output_type": "stream",
     "text": [
      "(2124, 2178)\n",
      "(2124, 2178)\n",
      "(2124, 2178)\n"
     ]
    }
   ],
   "source": [
    "import category_encoders as ce\n",
    "\n",
    "encoder = ce.TargetEncoder()\n",
    "train_Gene_and_Variation=encoder.fit_transform(train_Gene_and_Variation,y_train)\n",
    "test_Gene_and_Variation=encoder.transform(test_Gene_and_Variation)\n",
    "cv_Gene_and_Variation=encoder.transform(cv_Gene_and_Variation)\n",
    "\n",
    "print(train_Gene_and_Variation.shape)\n",
    "print(train_Gene_and_Variation.shape)\n",
    "print(train_Gene_and_Variation.shape)\n"
   ]
  },
  {
   "cell_type": "code",
   "execution_count": 54,
   "metadata": {},
   "outputs": [
    {
     "name": "stdout",
     "output_type": "stream",
     "text": [
      "(2124, 14347)\n",
      "(665, 14347)\n",
      "(532, 14347)\n"
     ]
    }
   ],
   "source": [
    "# merge two sparse matrices: https://stackoverflow.com/a/19710648/4084039\n",
    "from scipy.sparse import hstack\n",
    "\n",
    "# X_train_tfidf=hstack((train_Gene,train_Variation,X_train_text_tfidf,train_count_gene_in_text,train_count_variation_in_text,train_Gene_and_Variation,train_presence_gene_in_text,train_presence_variation_in_text)).tocsr()\n",
    "\n",
    "# X_test_tfidf=hstack((test_Gene,test_Variation,X_test_text_tfidf,test_count_gene_in_text,test_count_variation_in_text,test_Gene_and_Variation,test_presence_gene_in_text,test_presence_variation_in_text)).tocsr()\n",
    "\n",
    "# X_cv_tfidf=hstack((cv_Gene,cv_Variation,X_cv_text_tfidf,cv_count_gene_in_text,cv_count_variation_in_text,cv_Gene_and_Variation,cv_presence_gene_in_text,cv_presence_variation_in_text)).tocsr()\n",
    "\n",
    "X_train_tfidf=hstack((train_Gene,train_Variation,X_train_text_tfidf,train_Gene_and_Variation,train_presence_gene_in_text,train_presence_variation_in_text)).tocsr()\n",
    "\n",
    "X_test_tfidf=hstack((test_Gene,test_Variation,X_test_text_tfidf,test_Gene_and_Variation,test_presence_gene_in_text,test_presence_variation_in_text)).tocsr()\n",
    "\n",
    "X_cv_tfidf=hstack((cv_Gene,cv_Variation,X_cv_text_tfidf,cv_Gene_and_Variation,cv_presence_gene_in_text,cv_presence_variation_in_text)).tocsr()\n",
    "\n",
    "print(X_train_tfidf.shape)\n",
    "print(X_test_tfidf.shape)\n",
    "print(X_cv_tfidf.shape)\n"
   ]
  },
  {
   "cell_type": "markdown",
   "metadata": {},
   "source": [
    "<h2>4.3. Logistic Regression with class balancing</h2>"
   ]
  },
  {
   "cell_type": "code",
   "execution_count": 55,
   "metadata": {},
   "outputs": [
    {
     "name": "stderr",
     "output_type": "stream",
     "text": [
      "100%|██████████████████████████████████████████████████████████████████████████████████| 18/18 [02:38<00:00, 14.22s/it]\n"
     ]
    },
    {
     "name": "stdout",
     "output_type": "stream",
     "text": [
      "{1e-05: 1.8121656475573582, 0.0001: 1.8117883293191237, 0.001: 1.8062904774675737, 0.01: 1.6753202207606537, 0.1: 1.2124865146128918, 0.2: 1.1406110085755956, 0.3: 1.11096510661379, 0.4: 1.0935555476016008, 0.5: 1.0817498074012262, 0.6: 1.073124593107235, 0.7: 1.0664851163785385, 0.8: 1.0612340678566308, 0.9: 1.0569636963310134, 1: 1.0534343414177616, 10: 1.021775524430707, 100: 1.019963927322537, 1000: 1.02155867294752}\n",
      "{1e-05: 1.819021463594658, 0.0001: 1.81856488685096, 0.001: 1.8109839514566124, 0.01: 1.6127320590397796, 0.1: 0.9678163302338878, 0.2: 0.8268584812055219, 0.3: 0.7509863800540595, 0.4: 0.6994851597009935, 0.5: 0.661162626841229, 0.6: 0.6312253847526637, 0.7: 0.6070348893375656, 0.8: 0.5870422547584538, 0.9: 0.5702123025971395, 1: 0.5558391047198846, 10: 0.3916205273791589, 100: 0.3541082681631095, 1000: 0.34096189379413205}\n"
     ]
    }
   ],
   "source": [
    "from sklearn.linear_model  import LogisticRegression\n",
    "from sklearn.calibration import CalibratedClassifierCV\n",
    "from sklearn.metrics.classification import accuracy_score, log_loss\n",
    "\n",
    "summary=[]\n",
    "\n",
    "log_loss_cv_tfidf_dict={}\n",
    "log_loss_train_tfidf_dict={}\n",
    "\n",
    "\n",
    "alpha=[0.00001,0.0001,0.001,0.01,0.1,0.2,0.3,0.4,0.5,0.6,0.7,0.8,0.9,1,10,100,1000,1000]\n",
    "for i in tqdm(alpha):\n",
    "    # create instance of model\n",
    "    lr=LogisticRegression(penalty='l2',class_weight='balanced',C=i,random_state=42)\n",
    "    \n",
    "    # fitting the model on crossvalidation train\n",
    "    lr.fit(X_train_tfidf, y_train)\n",
    "    \n",
    "    # fit the model to the calibrator\n",
    "    calibrated = CalibratedClassifierCV(lr, method=\"sigmoid\")\n",
    "    calibrated.fit(X_train_tfidf, y_train)\n",
    "    \n",
    "    # predict the response on the crossvalidation train\n",
    "    pred_tfidf_cv = calibrated.predict_proba(X_cv_tfidf)\n",
    "    \n",
    "    #evaluate CV log loss\n",
    "    log_loss_cv=log_loss(y_cv,pred_tfidf_cv)\n",
    "    \n",
    "    #insert into dict\n",
    "    log_loss_cv_tfidf_dict[i]=log_loss_cv\n",
    "    \n",
    "    # predict the response on the train\n",
    "    pred_tfidf_train = calibrated.predict_proba(X_train_tfidf)\n",
    "    \n",
    "    #evaluate train roc_auc\n",
    "    log_loss_train =log_loss(y_train,pred_tfidf_train)\n",
    "    \n",
    "    #insert into dict\n",
    "    log_loss_train_tfidf_dict[i]=log_loss_train\n",
    "    \n",
    "    \n",
    "    \n",
    "print(log_loss_cv_tfidf_dict)\n",
    "print(log_loss_train_tfidf_dict)\n"
   ]
  },
  {
   "cell_type": "markdown",
   "metadata": {},
   "source": [
    "### Plot ROC_AUC_score VS different alpha values (Train and CV set)"
   ]
  },
  {
   "cell_type": "code",
   "execution_count": 56,
   "metadata": {},
   "outputs": [
    {
     "data": {
      "image/png": "[encoded data removed]",
      "text/plain": [
       "<Figure size 432x288 with 1 Axes>"
      ]
     },
     "metadata": {},
     "output_type": "display_data"
    },
    {
     "data": {
      "image/png": "[encoded data removed]",
      "text/plain": [
       "<Figure size 432x288 with 1 Axes>"
      ]
     },
     "metadata": {},
     "output_type": "display_data"
    }
   ],
   "source": [
    "#https://stackoverflow.com/questions/37266341/plotting-a-python-dict-in-order-of-key-values/37266356\n",
    "import math\n",
    "\n",
    "lists1 = sorted(log_loss_cv_tfidf_dict.items())\n",
    "x1, y1 = zip(*lists1) # unpack a list of pairs into two tuples\n",
    "lists2 = sorted(log_loss_train_tfidf_dict.items())\n",
    "x2, y2 = zip(*lists2) # unpack a list of pairs into two tuples\n",
    "plt.xlabel('alpha')\n",
    "plt.ylabel('Log_loss')\n",
    "plt.title('Hyper parameter tuning')\n",
    "plt.plot(x1, y1,label=\"CV\")\n",
    "plt.plot(x2, y2,label='Train')\n",
    "plt.legend()\n",
    "plt.show()\n",
    "\n",
    "x1=[math.log(i) for i in list(x1)]\n",
    "x2=[math.log(i) for i in list(x2)]\n",
    "plt.xlabel('log(alpha)')\n",
    "plt.ylabel('Log_loss')\n",
    "plt.title('Hyper parameter tuning')\n",
    "plt.plot(x1, y1,label=\"CV\")\n",
    "plt.plot(x2, y2,label='Train')\n",
    "plt.legend()\n",
    "plt.show()\n"
   ]
  },
  {
   "cell_type": "code",
   "execution_count": 57,
   "metadata": {},
   "outputs": [],
   "source": [
    "###  Find best alpha\n",
    "\n",
    "#https://stackoverflow.com/questions/268272/getting-key-with-maximum-value-in-dictionary\n",
    "def find_highest_alpha(k_dict):\n",
    "    k=min(k_dict, key=k_dict.get)\n",
    "    return k "
   ]
  },
  {
   "cell_type": "code",
   "execution_count": 58,
   "metadata": {},
   "outputs": [
    {
     "name": "stdout",
     "output_type": "stream",
     "text": [
      "100\n"
     ]
    }
   ],
   "source": [
    "###  Find best alpha\n",
    "print(find_highest_alpha(log_loss_cv_tfidf_dict))\n"
   ]
  },
  {
   "cell_type": "code",
   "execution_count": 59,
   "metadata": {},
   "outputs": [
    {
     "name": "stdout",
     "output_type": "stream",
     "text": [
      "the log loss for test :0.9981869503420902\n",
      "the log loss for train :0.3541082681631095\n",
      "the log loss for cv :1.019963927322537\n"
     ]
    }
   ],
   "source": [
    "from sklearn.metrics.classification import accuracy_score, log_loss\n",
    "# train model on the best alpha\n",
    "lr = LogisticRegression(penalty='l2',class_weight='balanced',C=find_highest_alpha(log_loss_cv_tfidf_dict),random_state=42)\n",
    "\n",
    "# fitting the model on crossvalidation train\n",
    "lr.fit(X_train_tfidf, y_train)\n",
    "\n",
    "# fit the model to the calibrator\n",
    "calibrated = CalibratedClassifierCV(base_estimator=lr,method='sigmoid')\n",
    "\n",
    "calibrated.fit(X_train_tfidf,y_train)\n",
    "\n",
    "\n",
    "# predict the response on the crossvalidation train\n",
    "pred_tfidf_test = calibrated.predict(X_test_tfidf)\n",
    "pred_tfidf_train = calibrated.predict(X_train_tfidf)\n",
    "\n",
    "\n",
    "#https://stackoverflow.com/questions/52910061/implementing-roc-curves-for-k-nn-machine-learning-algorithm-using-python-and-scip_scores = lr.predict_proba(X_test)\n",
    "pred_tfidf_test_scores=calibrated.predict_proba(X_test_tfidf)\n",
    "pred_tfidf_train_scores=calibrated.predict_proba(X_train_tfidf)\n",
    "pred_tfidf_cv_scores=calibrated.predict_proba(X_cv_tfidf)\n",
    "\n",
    "log_loss_test=log_loss(y_test,pred_tfidf_test_scores)\n",
    "log_loss_train=log_loss(y_train,pred_tfidf_train_scores)\n",
    "log_loss_cv=log_loss(y_cv,pred_tfidf_cv_scores)\n",
    "\n",
    "\n",
    "\n",
    "print(\"the log loss for test :{}\".format(log_loss_test))\n",
    "print(\"the log loss for train :{}\".format(log_loss_train))\n",
    "print(\"the log loss for cv :{}\".format(log_loss_cv))\n",
    "\n"
   ]
  },
  {
   "cell_type": "code",
   "execution_count": 60,
   "metadata": {},
   "outputs": [],
   "source": [
    "# This function plots the confusion matrices given y_i, y_i_hat.\n",
    "def plot_confusion_matrix(test_y, predict_y):\n",
    "    C = confusion_matrix(test_y, predict_y)\n",
    "    # C = 9,9 matrix, each cell (i,j) represents number of points of class i are predicted class j\n",
    "    \n",
    "    A =(((C.T)/(C.sum(axis=1))).T)\n",
    "    #divid each element of the confusion matrix with the sum of elements in that column\n",
    "    \n",
    "    # C = [[1, 2],\n",
    "    #     [3, 4]]\n",
    "    # C.T = [[1, 3],\n",
    "    #        [2, 4]]\n",
    "    # C.sum(axis = 1)  axis=0 corresonds to columns and axis=1 corresponds to rows in two diamensional array\n",
    "    # C.sum(axix =1) = [[3, 7]]\n",
    "    # ((C.T)/(C.sum(axis=1))) = [[1/3, 3/7]\n",
    "    #                           [2/3, 4/7]]\n",
    "\n",
    "    # ((C.T)/(C.sum(axis=1))).T = [[1/3, 2/3]\n",
    "    #                           [3/7, 4/7]]\n",
    "    # sum of row elements = 1\n",
    "    \n",
    "    B =(C/C.sum(axis=0))\n",
    "    #divid each element of the confusion matrix with the sum of elements in that row\n",
    "    # C = [[1, 2],\n",
    "    #     [3, 4]]\n",
    "    # C.sum(axis = 0)  axis=0 corresonds to columns and axis=1 corresponds to rows in two diamensional array\n",
    "    # C.sum(axix =0) = [[4, 6]]\n",
    "    # (C/C.sum(axis=0)) = [[1/4, 2/6],\n",
    "    #                      [3/4, 4/6]] \n",
    "    \n",
    "    labels = [1,2,3,4,5,6,7,8,9]\n",
    "    # representing A in heatmap format\n",
    "    print(\"-\"*20, \"Confusion matrix\", \"-\"*20)\n",
    "    plt.figure(figsize=(20,7))\n",
    "    sns.heatmap(C, annot=True, cmap=\"YlGnBu\", fmt=\".3f\", xticklabels=labels, yticklabels=labels)\n",
    "    plt.xlabel('Predicted Class')\n",
    "    plt.ylabel('Original Class')\n",
    "    plt.show()\n",
    "\n",
    "    print(\"-\"*20, \"Precision matrix (Columm Sum=1)\", \"-\"*20)\n",
    "    plt.figure(figsize=(20,7))\n",
    "    sns.heatmap(B, annot=True, cmap=\"YlGnBu\", fmt=\".3f\", xticklabels=labels, yticklabels=labels)\n",
    "    plt.xlabel('Predicted Class')\n",
    "    plt.ylabel('Original Class')\n",
    "    plt.show()\n",
    "    \n",
    "    # representing B in heatmap format\n",
    "    print(\"-\"*20, \"Recall matrix (Row sum=1)\", \"-\"*20)\n",
    "    plt.figure(figsize=(20,7))\n",
    "    sns.heatmap(A, annot=True, cmap=\"YlGnBu\", fmt=\".3f\", xticklabels=labels, yticklabels=labels)\n",
    "    plt.xlabel('Predicted Class')\n",
    "    plt.ylabel('Original Class')\n",
    "    plt.show()"
   ]
  },
  {
   "cell_type": "code",
   "execution_count": 61,
   "metadata": {},
   "outputs": [
    {
     "name": "stdout",
     "output_type": "stream",
     "text": [
      "-------------------- Confusion matrix --------------------\n"
     ]
    },
    {
     "data": {
      "image/png": "[encoded data removed]",
      "text/plain": [
       "<Figure size 1440x504 with 2 Axes>"
      ]
     },
     "metadata": {},
     "output_type": "display_data"
    },
    {
     "name": "stdout",
     "output_type": "stream",
     "text": [
      "-------------------- Precision matrix (Columm Sum=1) --------------------\n"
     ]
    },
    {
     "data": {
      "image/png": "[encoded data removed]",
      "text/plain": [
       "<Figure size 1440x504 with 2 Axes>"
      ]
     },
     "metadata": {},
     "output_type": "display_data"
    },
    {
     "name": "stdout",
     "output_type": "stream",
     "text": [
      "-------------------- Recall matrix (Row sum=1) --------------------\n"
     ]
    },
    {
     "data": {
      "image/png": "[encoded data removed]",
      "text/plain": [
       "<Figure size 1440x504 with 2 Axes>"
      ]
     },
     "metadata": {},
     "output_type": "display_data"
    }
   ],
   "source": [
    "plot_confusion_matrix(pred_tfidf_test,y_test )"
   ]
  },
  {
   "cell_type": "code",
   "execution_count": 62,
   "metadata": {},
   "outputs": [
    {
     "name": "stdout",
     "output_type": "stream",
     "text": [
      "% of missclassified point : 0.3669172932330827\n"
     ]
    }
   ],
   "source": [
    "mis_class=np.count_nonzero((pred_tfidf_test- y_test))/y_test.shape[0]\n",
    "print(\"% of missclassified point :\",mis_class)\n",
    "\n",
    "summary.append(['LR- Class Balancing','TFIDF',find_highest_alpha(log_loss_cv_tfidf_dict),'NA',log_loss_train,log_loss_test,log_loss_cv,mis_class])\n"
   ]
  },
  {
   "cell_type": "markdown",
   "metadata": {},
   "source": [
    "<h4>4.1.1.3. Feature Importance, Correctly classified point</h4>"
   ]
  },
  {
   "cell_type": "code",
   "execution_count": 63,
   "metadata": {},
   "outputs": [
    {
     "name": "stdout",
     "output_type": "stream",
     "text": [
      "Predicted Class : 7\n",
      "Predicted Class Probabilities: [[0.0316 0.2837 0.0134 0.0623 0.0201 0.2282 0.3477 0.0056 0.0076]]\n",
      "Actual Class : 6\n",
      "[[13169   143   108  4072  1201 14293  5618    55  5971   695]]\n",
      "--------------------------------------------------\n",
      "The top 10 features are:\n"
     ]
    },
    {
     "name": "stderr",
     "output_type": "stream",
     "text": [
      "\r",
      "  0%|                                                                                           | 0/10 [00:00<?, ?it/s]"
     ]
    },
    {
     "name": "stdout",
     "output_type": "stream",
     "text": [
      "fusion\n",
      "1640\n",
      "138\n",
      "gata3\n",
      "arg\n",
      "tsc2_l493p\n",
      "lymphoma\n",
      "1040\n",
      "ministry\n",
      "9e10\n"
     ]
    },
    {
     "name": "stderr",
     "output_type": "stream",
     "text": [
      "100%|█████████████████████████████████████████████████████████████████████████████████| 10/10 [00:00<00:00, 835.07it/s]\n"
     ]
    }
   ],
   "source": [
    "test_point_index = 1\n",
    "no_feature = 10\n",
    "predicted_cls = calibrated.predict(X_test_tfidf[test_point_index])\n",
    "print(\"Predicted Class :\", predicted_cls[0])\n",
    "print(\"Predicted Class Probabilities:\", np.round(calibrated.predict_proba(X_test_tfidf[test_point_index]),4))\n",
    "print(\"Actual Class :\", y_test[test_point_index])\n",
    "indices = np.argsort(-lr.coef_)[predicted_cls-1][:,:no_feature]\n",
    "print(indices)\n",
    "print(\"-\"*50)\n",
    "print(\"The top 10 features are:\")\n",
    "for i in tqdm(indices[0]):\n",
    "    print(feature_names_tfidf[i])"
   ]
  },
  {
   "cell_type": "markdown",
   "metadata": {},
   "source": [
    "<h4>4.1.1.4. Feature Importance, Incorrectly classified point</h4>"
   ]
  },
  {
   "cell_type": "code",
   "execution_count": 64,
   "metadata": {},
   "outputs": [
    {
     "name": "stdout",
     "output_type": "stream",
     "text": [
      "Predicted Class : 6\n",
      "Predicted Class Probabilities: [[0.0467 0.0088 0.0247 0.0903 0.0577 0.7605 0.0074 0.002  0.002 ]]\n",
      "Actual Class : 6\n",
      "[[   28 12526 12412   446 14332  2056   842 13992   902 14184]]\n",
      "--------------------------------------------------\n",
      "The top 10 features are:\n"
     ]
    },
    {
     "name": "stderr",
     "output_type": "stream",
     "text": [
      "\r",
      "  0%|                                                                                           | 0/10 [00:00<?, ?it/s]"
     ]
    },
    {
     "name": "stdout",
     "output_type": "stream",
     "text": [
      "035\n",
      "brca1_s308a\n",
      "brca1_d1818g\n",
      "3b\n",
      "vhl_v84l\n",
      "cl\n",
      "acts\n",
      "runx1_g42r\n",
      "advance\n",
      "tp53_h115n\n"
     ]
    },
    {
     "name": "stderr",
     "output_type": "stream",
     "text": [
      "100%|████████████████████████████████████████████████████████████████████████████████| 10/10 [00:00<00:00, 1253.30it/s]\n"
     ]
    }
   ],
   "source": [
    "test_point_index = 290\n",
    "\n",
    "no_feature = 10\n",
    "predicted_cls = calibrated.predict(X_test_tfidf[test_point_index])\n",
    "print(\"Predicted Class :\", predicted_cls[0])\n",
    "print(\"Predicted Class Probabilities:\", np.round(calibrated.predict_proba(X_test_tfidf[test_point_index]),4))\n",
    "print(\"Actual Class :\", y_test[test_point_index])\n",
    "indices = np.argsort(-lr.coef_)[predicted_cls-1][:,:no_feature]\n",
    "print(indices)\n",
    "print(\"-\"*50)\n",
    "print(\"The top 10 features are:\")\n",
    "for i in tqdm(indices[0]):\n",
    "    print(feature_names_tfidf[i])\n"
   ]
  },
  {
   "cell_type": "markdown",
   "metadata": {},
   "source": [
    "<h2>4.3. Logistic Regression without class balancing</h2>"
   ]
  },
  {
   "cell_type": "code",
   "execution_count": 65,
   "metadata": {},
   "outputs": [
    {
     "name": "stderr",
     "output_type": "stream",
     "text": [
      "100%|██████████████████████████████████████████████████████████████████████████████████| 18/18 [02:41<00:00, 15.35s/it]\n"
     ]
    },
    {
     "name": "stdout",
     "output_type": "stream",
     "text": [
      "{1e-05: 1.8070263082908489, 0.0001: 1.8057327024459457, 0.001: 1.7887295286237106, 0.01: 1.548848625490504, 0.1: 1.2230370006759095, 0.2: 1.167337671429074, 0.3: 1.1342892360265682, 0.4: 1.1123259155155103, 0.5: 1.0965559360204948, 0.6: 1.0845635090901002, 0.7: 1.0752162746800167, 0.8: 1.067871530667689, 0.9: 1.0620470687451318, 1: 1.0573751719633722, 10: 1.022760097149806, 100: 1.0207454231775843, 1000: 1.0222232461895453}\n",
      "{1e-05: 1.8126051568497774, 0.0001: 1.8111442525081438, 0.001: 1.7917058121308007, 0.01: 1.50854490377127, 0.1: 1.001166620787581, 0.2: 0.848557840760654, 0.3: 0.7609881962403374, 0.4: 0.7012704026291523, 0.5: 0.6564636685441139, 0.6: 0.6216065025691891, 0.7: 0.5940506138408035, 0.8: 0.5719395710295685, 0.9: 0.5538718172585418, 1: 0.5388375152265042, 10: 0.38766413735020405, 100: 0.3532480371512888, 1000: 0.3405532671172519}\n"
     ]
    }
   ],
   "source": [
    "from sklearn.linear_model  import LogisticRegression\n",
    "from sklearn.calibration import CalibratedClassifierCV\n",
    "from sklearn.metrics.classification import accuracy_score, log_loss\n",
    "\n",
    "\n",
    "log_loss_cv_tfidf_dict={}\n",
    "log_loss_train_tfidf_dict={}\n",
    "\n",
    "\n",
    "alpha=[0.00001,0.0001,0.001,0.01,0.1,0.2,0.3,0.4,0.5,0.6,0.7,0.8,0.9,1,10,100,1000,1000]\n",
    "for i in tqdm(alpha):\n",
    "    # create instance of model\n",
    "    lr=LogisticRegression(penalty='l2',C=i,random_state=42)\n",
    "    \n",
    "    # fitting the model on crossvalidation train\n",
    "    lr.fit(X_train_tfidf, y_train)\n",
    "    \n",
    "    # fit the model to the calibrator\n",
    "    calibrated = CalibratedClassifierCV(lr, method=\"sigmoid\")\n",
    "    calibrated.fit(X_train_tfidf, y_train)\n",
    "    \n",
    "    # predict the response on the crossvalidation train\n",
    "    pred_tfidf_cv = calibrated.predict_proba(X_cv_tfidf)\n",
    "    \n",
    "    #evaluate CV log loss\n",
    "    log_loss_cv=log_loss(y_cv,pred_tfidf_cv)\n",
    "    \n",
    "    #insert into dict\n",
    "    log_loss_cv_tfidf_dict[i]=log_loss_cv\n",
    "    \n",
    "    # predict the response on the train\n",
    "    pred_tfidf_train = calibrated.predict_proba(X_train_tfidf)\n",
    "    \n",
    "    #evaluate train roc_auc\n",
    "    log_loss_train =log_loss(y_train,pred_tfidf_train)\n",
    "    \n",
    "    #insert into dict\n",
    "    log_loss_train_tfidf_dict[i]=log_loss_train\n",
    "    \n",
    "    \n",
    "    \n",
    "print(log_loss_cv_tfidf_dict)\n",
    "print(log_loss_train_tfidf_dict)\n"
   ]
  },
  {
   "cell_type": "markdown",
   "metadata": {},
   "source": [
    "### Plot ROC_AUC_score VS different alpha values (Train and CV set)"
   ]
  },
  {
   "cell_type": "code",
   "execution_count": 66,
   "metadata": {},
   "outputs": [
    {
     "data": {
      "image/png": "[encoded data removed]",
      "text/plain": [
       "<Figure size 432x288 with 1 Axes>"
      ]
     },
     "metadata": {},
     "output_type": "display_data"
    },
    {
     "data": {
      "image/png": "[encoded data removed]",
      "text/plain": [
       "<Figure size 432x288 with 1 Axes>"
      ]
     },
     "metadata": {},
     "output_type": "display_data"
    }
   ],
   "source": [
    "#https://stackoverflow.com/questions/37266341/plotting-a-python-dict-in-order-of-key-values/37266356\n",
    "import math\n",
    "\n",
    "lists1 = sorted(log_loss_cv_tfidf_dict.items())\n",
    "x1, y1 = zip(*lists1) # unpack a list of pairs into two tuples\n",
    "lists2 = sorted(log_loss_train_tfidf_dict.items())\n",
    "x2, y2 = zip(*lists2) # unpack a list of pairs into two tuples\n",
    "plt.xlabel('alpha')\n",
    "plt.ylabel('Log_loss')\n",
    "plt.title('Hyper parameter tuning')\n",
    "plt.plot(x1, y1,label=\"CV\")\n",
    "plt.plot(x2, y2,label='Train')\n",
    "plt.legend()\n",
    "plt.show()\n",
    "\n",
    "x1=[math.log(i) for i in list(x1)]\n",
    "x2=[math.log(i) for i in list(x2)]\n",
    "plt.xlabel('log(alpha)')\n",
    "plt.ylabel('Log_loss')\n",
    "plt.title('Hyper parameter tuning')\n",
    "plt.plot(x1, y1,label=\"CV\")\n",
    "plt.plot(x2, y2,label='Train')\n",
    "plt.legend()\n",
    "plt.show()\n"
   ]
  },
  {
   "cell_type": "code",
   "execution_count": 67,
   "metadata": {},
   "outputs": [
    {
     "name": "stdout",
     "output_type": "stream",
     "text": [
      "100\n"
     ]
    }
   ],
   "source": [
    "###  Find best alpha\n",
    "print(find_highest_alpha(log_loss_cv_tfidf_dict))\n"
   ]
  },
  {
   "cell_type": "code",
   "execution_count": 68,
   "metadata": {},
   "outputs": [
    {
     "name": "stdout",
     "output_type": "stream",
     "text": [
      "the log loss for test :0.9986301229097357\n",
      "the log loss for train :0.3532480371512888\n",
      "the log loss for cv :1.0207454231775843\n"
     ]
    }
   ],
   "source": [
    "from sklearn.metrics.classification import accuracy_score, log_loss\n",
    "# train model on the best alpha\n",
    "lr = LogisticRegression(penalty='l2',C=find_highest_alpha(log_loss_cv_tfidf_dict),random_state=42)\n",
    "\n",
    "# fitting the model on crossvalidation train\n",
    "lr.fit(X_train_tfidf, y_train)\n",
    "\n",
    "# fit the model to the calibrator\n",
    "calibrated = CalibratedClassifierCV(base_estimator=lr,method='sigmoid')\n",
    "\n",
    "calibrated.fit(X_train_tfidf,y_train)\n",
    "\n",
    "\n",
    "# predict the response on the crossvalidation train\n",
    "pred_tfidf_test = calibrated.predict(X_test_tfidf)\n",
    "pred_tfidf_train = calibrated.predict(X_train_tfidf)\n",
    "\n",
    "\n",
    "#https://stackoverflow.com/questions/52910061/implementing-roc-curves-for-k-nn-machine-learning-algorithm-using-python-and-scip_scores = lr.predict_proba(X_test)\n",
    "pred_tfidf_test_scores=calibrated.predict_proba(X_test_tfidf)\n",
    "pred_tfidf_train_scores=calibrated.predict_proba(X_train_tfidf)\n",
    "pred_tfidf_cv_scores=calibrated.predict_proba(X_cv_tfidf)\n",
    "\n",
    "log_loss_test=log_loss(y_test,pred_tfidf_test_scores)\n",
    "log_loss_train=log_loss(y_train,pred_tfidf_train_scores)\n",
    "log_loss_cv=log_loss(y_cv,pred_tfidf_cv_scores)\n",
    "\n",
    "\n",
    "\n",
    "print(\"the log loss for test :{}\".format(log_loss_test))\n",
    "print(\"the log loss for train :{}\".format(log_loss_train))\n",
    "print(\"the log loss for cv :{}\".format(log_loss_cv))\n",
    "\n"
   ]
  },
  {
   "cell_type": "code",
   "execution_count": 69,
   "metadata": {},
   "outputs": [
    {
     "name": "stdout",
     "output_type": "stream",
     "text": [
      "-------------------- Confusion matrix --------------------\n"
     ]
    },
    {
     "data": {
      "image/png": "[encoded data removed]",
      "text/plain": [
       "<Figure size 1440x504 with 2 Axes>"
      ]
     },
     "metadata": {},
     "output_type": "display_data"
    },
    {
     "name": "stdout",
     "output_type": "stream",
     "text": [
      "-------------------- Precision matrix (Columm Sum=1) --------------------\n"
     ]
    },
    {
     "data": {
      "image/png": "[encoded data removed]",
      "text/plain": [
       "<Figure size 1440x504 with 2 Axes>"
      ]
     },
     "metadata": {},
     "output_type": "display_data"
    },
    {
     "name": "stdout",
     "output_type": "stream",
     "text": [
      "-------------------- Recall matrix (Row sum=1) --------------------\n"
     ]
    },
    {
     "data": {
      "image/png": "[encoded data removed]",
      "text/plain": [
       "<Figure size 1440x504 with 2 Axes>"
      ]
     },
     "metadata": {},
     "output_type": "display_data"
    }
   ],
   "source": [
    "plot_confusion_matrix(pred_tfidf_test,y_test )"
   ]
  },
  {
   "cell_type": "code",
   "execution_count": 70,
   "metadata": {},
   "outputs": [
    {
     "name": "stdout",
     "output_type": "stream",
     "text": [
      "% of missclassified point : 0.3669172932330827\n"
     ]
    }
   ],
   "source": [
    "mis_class=np.count_nonzero((pred_tfidf_test- y_test))/y_test.shape[0]\n",
    "print(\"% of missclassified point :\",mis_class)\n",
    "\n",
    "summary.append(['LR- NO Class Balancing','TFIDF-RE',find_highest_alpha(log_loss_cv_tfidf_dict),'NA',log_loss_train,log_loss_test,log_loss_cv,mis_class])\n"
   ]
  },
  {
   "cell_type": "markdown",
   "metadata": {},
   "source": [
    "<h4>4.1.1.3. Feature Importance, Correctly classified point</h4>"
   ]
  },
  {
   "cell_type": "code",
   "execution_count": 71,
   "metadata": {},
   "outputs": [
    {
     "name": "stdout",
     "output_type": "stream",
     "text": [
      "Predicted Class : 7\n",
      "Predicted Class Probabilities: [[0.0315 0.2829 0.0141 0.0619 0.0204 0.2297 0.3444 0.0064 0.0086]]\n",
      "Actual Class : 6\n",
      "[[13169   143   108  4072  1201 14293  5618   695  5971    55]]\n",
      "--------------------------------------------------\n",
      "The top 10 features are:\n"
     ]
    },
    {
     "name": "stderr",
     "output_type": "stream",
     "text": [
      "\r",
      "  0%|                                                                                           | 0/10 [00:00<?, ?it/s]"
     ]
    },
    {
     "name": "stdout",
     "output_type": "stream",
     "text": [
      "fusion\n",
      "1640\n",
      "138\n",
      "gata3\n",
      "arg\n",
      "tsc2_l493p\n",
      "lymphoma\n",
      "9e10\n",
      "ministry\n",
      "1040\n"
     ]
    },
    {
     "name": "stderr",
     "output_type": "stream",
     "text": [
      "100%|█████████████████████████████████████████████████████████████████████████████████| 10/10 [00:00<00:00, 640.21it/s]\n"
     ]
    }
   ],
   "source": [
    "test_point_index = 1\n",
    "no_feature = 10\n",
    "predicted_cls = calibrated.predict(X_test_tfidf[test_point_index])\n",
    "print(\"Predicted Class :\", predicted_cls[0])\n",
    "print(\"Predicted Class Probabilities:\", np.round(calibrated.predict_proba(X_test_tfidf[test_point_index]),4))\n",
    "print(\"Actual Class :\", y_test[test_point_index])\n",
    "indices = np.argsort(-lr.coef_)[predicted_cls-1][:,:no_feature]\n",
    "print(indices)\n",
    "print(\"-\"*50)\n",
    "print(\"The top 10 features are:\")\n",
    "for i in tqdm(indices[0]):\n",
    "    print(feature_names_tfidf[i])\n"
   ]
  },
  {
   "cell_type": "markdown",
   "metadata": {},
   "source": [
    "<h4>4.1.1.4. Feature Importance, Incorrectly classified point</h4>"
   ]
  },
  {
   "cell_type": "code",
   "execution_count": 72,
   "metadata": {
    "scrolled": true
   },
   "outputs": [
    {
     "name": "stdout",
     "output_type": "stream",
     "text": [
      "Predicted Class : 6\n",
      "Predicted Class Probabilities: [[0.0467 0.009  0.0255 0.0894 0.0583 0.7595 0.0081 0.0018 0.0018]]\n",
      "Actual Class : 6\n",
      "[[   28 12526 12412   446  2056 14332   842 13992   902 14184]]\n",
      "--------------------------------------------------\n",
      "The top 10 features are:\n"
     ]
    },
    {
     "name": "stderr",
     "output_type": "stream",
     "text": [
      "\r",
      "  0%|                                                                                           | 0/10 [00:00<?, ?it/s]"
     ]
    },
    {
     "name": "stdout",
     "output_type": "stream",
     "text": [
      "035\n",
      "brca1_s308a\n",
      "brca1_d1818g\n",
      "3b\n",
      "cl\n",
      "vhl_v84l\n",
      "acts\n",
      "runx1_g42r\n",
      "advance\n",
      "tp53_h115n\n"
     ]
    },
    {
     "name": "stderr",
     "output_type": "stream",
     "text": [
      "100%|█████████████████████████████████████████████████████████████████████████████████| 10/10 [00:00<00:00, 640.00it/s]\n"
     ]
    }
   ],
   "source": [
    "test_point_index = 290\n",
    "no_feature = 10\n",
    "predicted_cls = calibrated.predict(X_test_tfidf[test_point_index])\n",
    "print(\"Predicted Class :\", predicted_cls[0])\n",
    "print(\"Predicted Class Probabilities:\", np.round(calibrated.predict_proba(X_test_tfidf[test_point_index]),4))\n",
    "print(\"Actual Class :\", y_test[test_point_index])\n",
    "indices = np.argsort(-lr.coef_)[predicted_cls-1][:,:no_feature]\n",
    "print(indices)\n",
    "print(\"-\"*50)\n",
    "print(\"The top 10 features are:\")\n",
    "for i in tqdm(indices[0]):\n",
    "    print(feature_names_tfidf[i])"
   ]
  },
  {
   "cell_type": "code",
   "execution_count": 73,
   "metadata": {},
   "outputs": [
    {
     "name": "stdout",
     "output_type": "stream",
     "text": [
      "+------------------------+----------+-----+-----+--------------------+--------------------+--------------------+--------------------+\n",
      "|       Vectorizer       | DataSet  | Hp1 | Hp2 |   logloss_train    |    logloss_test    |     logloss_cv     |     mis_class      |\n",
      "+------------------------+----------+-----+-----+--------------------+--------------------+--------------------+--------------------+\n",
      "|  LR- Class Balancing   |  TFIDF   | 100 |  NA | 0.3541082681631095 | 0.9981869503420902 | 1.019963927322537  | 0.3669172932330827 |\n",
      "| LR- NO Class Balancing | TFIDF-RE | 100 |  NA | 0.3532480371512888 | 0.9986301229097357 | 1.0207454231775843 | 0.3669172932330827 |\n",
      "+------------------------+----------+-----+-----+--------------------+--------------------+--------------------+--------------------+\n"
     ]
    }
   ],
   "source": [
    "# Please compare all your models using Prettytable library\n",
    "from prettytable import PrettyTable\n",
    "\n",
    "x = PrettyTable()\n",
    "\n",
    "x.field_names = [\"Vectorizer\",\"DataSet\",\"Hp1\",\"Hp2\", \"logloss_train\",\"logloss_test\", \"logloss_cv\",\"mis_class\"]\n",
    "\n",
    "for each in summary:\n",
    "    x.add_row(each)\n",
    "\n",
    "print(x)"
   ]
  },
  {
   "cell_type": "code",
   "execution_count": null,
   "metadata": {},
   "outputs": [],
   "source": []
  }
 ],
 "metadata": {
  "kernelspec": {
   "display_name": "Python 3",
   "language": "python",
   "name": "python3"
  },
  "language_info": {
   "codemirror_mode": {
    "name": "ipython",
    "version": 3
   },
   "file_extension": ".py",
   "mimetype": "text/x-python",
   "name": "python",
   "nbconvert_exporter": "python",
   "pygments_lexer": "ipython3",
   "version": "3.6.5"
  }
 },
 "nbformat": 4,
 "nbformat_minor": 2
}
